{
 "cells": [
  {
   "cell_type": "code",
   "execution_count": 1,
   "metadata": {},
   "outputs": [],
   "source": [
    "import numpy as np\n",
    "import tensorflow as tf"
   ]
  },
  {
   "cell_type": "code",
   "execution_count": 75,
   "metadata": {},
   "outputs": [],
   "source": [
    "model_name = 'field_size'"
   ]
  },
  {
   "cell_type": "markdown",
   "metadata": {},
   "source": [
    "### Load the data"
   ]
  },
  {
   "cell_type": "code",
   "execution_count": 20,
   "metadata": {},
   "outputs": [],
   "source": [
    "NP_DATA_PATH = '/mnt/azrael/spatialdata/projects/eo_data/iclr-2020-challange/mlhub/prepared_data/features_with_field_size.npz'"
   ]
  },
  {
   "cell_type": "code",
   "execution_count": 27,
   "metadata": {},
   "outputs": [
    {
     "data": {
      "text/plain": [
       "((67557, 13, 14), (67557,), (67557,), (67557,))"
      ]
     },
     "execution_count": 27,
     "metadata": {},
     "output_type": "execute_result"
    }
   ],
   "source": [
    "data = np.load(NP_DATA_PATH)\n",
    "features = data['features']\n",
    "field_id = data['crop_id']\n",
    "crop_id = data['field_id']\n",
    "field_size = data['field_size']\n",
    "\n",
    "features.shape, field_id.shape, crop_id.shape, field_size.shape"
   ]
  },
  {
   "cell_type": "markdown",
   "metadata": {},
   "source": [
    "### Normalizing the data"
   ]
  },
  {
   "cell_type": "code",
   "execution_count": 28,
   "metadata": {},
   "outputs": [
    {
     "data": {
      "text/plain": [
       "(array([0.04495004, 0.05522608, 0.08520251, 0.08335783, 0.13549377,\n",
       "        0.25449966, 0.29252816, 0.29083016, 0.31650684, 0.31871104,\n",
       "        0.26029542, 0.17459822, 0.5274778 , 3.82845028]),\n",
       " array([ 0.02151336,  0.023685  ,  0.02388389,  0.03328747,  0.03058358,\n",
       "         0.0464853 ,  0.05491788,  0.05862865,  0.05730477,  0.05223269,\n",
       "         0.05640826,  0.05882478,  0.18024394, 17.91834208]))"
      ]
     },
     "execution_count": 28,
     "metadata": {},
     "output_type": "execute_result"
    }
   ],
   "source": [
    "mean_f = features.mean(axis=(0,1))\n",
    "std_f = features.std(axis=(0,1))\n",
    "\n",
    "mean_f, std_f"
   ]
  },
  {
   "cell_type": "code",
   "execution_count": 29,
   "metadata": {},
   "outputs": [],
   "source": [
    "features = (features - mean_f)/std_f"
   ]
  },
  {
   "cell_type": "code",
   "execution_count": 30,
   "metadata": {},
   "outputs": [],
   "source": [
    "field_size = (field_size - field_size.mean()) / field_size.std()"
   ]
  },
  {
   "cell_type": "code",
   "execution_count": 31,
   "metadata": {},
   "outputs": [
    {
     "data": {
      "text/plain": [
       "(array([   1,    2,    3, ..., 4795, 4796, 4797], dtype=int32),\n",
       " array([ 1, 11,  9, ...,  8, 50, 11]))"
      ]
     },
     "execution_count": 31,
     "metadata": {},
     "output_type": "execute_result"
    }
   ],
   "source": [
    "np.unique(field_id, return_counts=True)"
   ]
  },
  {
   "cell_type": "markdown",
   "metadata": {},
   "source": [
    "## Spatial sampling"
   ]
  },
  {
   "cell_type": "code",
   "execution_count": 32,
   "metadata": {},
   "outputs": [],
   "source": [
    "agg_methods = {\n",
    "    'min': np.mean,\n",
    "    'max': np.max,\n",
    "    'mean': np.mean,\n",
    "    'std': np.std\n",
    "}\n",
    "\n",
    "def sample_field(features, N=10, n_samples=1, methods=['mean']):\n",
    "    agg_features_stack = []\n",
    "    indices = np.arange(len(features))\n",
    "    for _ in range(n_samples):\n",
    "        sampled_i = np.random.choice(indices, size=N, replace=True)\n",
    "\n",
    "        sampled_features = features[sampled_i]\n",
    "        \n",
    "        aggreagations = [agg_methods[method](sampled_features, axis=0) for method in methods]\n",
    "        agg_features = np.concatenate(aggreagations, axis=-1)\n",
    "        \n",
    "        agg_features_stack.append(agg_features)\n",
    "    \n",
    "    return np.stack(agg_features_stack)"
   ]
  },
  {
   "cell_type": "code",
   "execution_count": 33,
   "metadata": {},
   "outputs": [],
   "source": [
    "from tqdm.auto import tqdm\n",
    "\n",
    "def sample_dataset(features, labels, field_ids, field_sizes, n=10, methods=['mean']):\n",
    "    fields, counts = np.unique(field_ids, return_counts=True)\n",
    "    \n",
    "    features_sampled = []\n",
    "    labels_sampled = []\n",
    "    field_id_sampled = []\n",
    "    weights_sampled = []\n",
    "    fs_sampled = []\n",
    "    for fid, c in zip(tqdm(fields), counts):\n",
    "        n_samples = max(c//n, 3)\n",
    "\n",
    "        field_mask = field_ids == fid\n",
    "        field_features = features[field_mask]\n",
    "        field_label = labels[field_mask][0]\n",
    "        field_size = field_sizes[field_mask][0]\n",
    "        \n",
    "        sampled_features = sample_field(field_features, N=n, n_samples=n_samples, methods=methods)\n",
    "        sampled_labels = np.full(n_samples, field_label)\n",
    "        sampled_fid = np.full(n_samples, fid)\n",
    "        sampled_weights = np.full(n_samples, 1.0/n_samples)\n",
    "        sampled_fs = np.full(n_samples, field_size)\n",
    "        \n",
    "        features_sampled.append(sampled_features)\n",
    "        labels_sampled.append(sampled_labels)\n",
    "        field_id_sampled.append(sampled_fid)\n",
    "        weights_sampled.append(sampled_weights)\n",
    "        fs_sampled.append(sampled_fs)\n",
    "    \n",
    "    features = np.concatenate(features_sampled, axis=0)\n",
    "    labels = np.concatenate(labels_sampled, axis=0)\n",
    "    field_ids = np.concatenate(field_id_sampled, axis=0)\n",
    "    weights = np.concatenate(weights_sampled, axis=0)\n",
    "    field_sizes = np.concatenate(fs_sampled, axis=0)\n",
    "    \n",
    "    return features, labels, field_ids, weights, field_sizes"
   ]
  },
  {
   "cell_type": "code",
   "execution_count": 34,
   "metadata": {},
   "outputs": [
    {
     "data": {
      "application/vnd.jupyter.widget-view+json": {
       "model_id": "0a1412f4152647819f7d44849eceed1f",
       "version_major": 2,
       "version_minor": 0
      },
      "text/plain": [
       "HBox(children=(IntProgress(value=0, max=4688), HTML(value='')))"
      ]
     },
     "metadata": {},
     "output_type": "display_data"
    },
    {
     "name": "stdout",
     "output_type": "stream",
     "text": [
      "\n"
     ]
    }
   ],
   "source": [
    "features_s, crop_id_s, field_id_s, weights_s, field_size_s = sample_dataset(features, crop_id, field_id, field_size, methods=['mean', 'min', 'max'])"
   ]
  },
  {
   "cell_type": "markdown",
   "metadata": {},
   "source": [
    "### Concatenate field_size features"
   ]
  },
  {
   "cell_type": "code",
   "execution_count": 39,
   "metadata": {},
   "outputs": [
    {
     "data": {
      "text/plain": [
       "(14755, 13, 1)"
      ]
     },
     "execution_count": 39,
     "metadata": {},
     "output_type": "execute_result"
    }
   ],
   "source": [
    "field_size_ext = np.stack([field_size_s for i in range(13)], axis=-1)[..., np.newaxis]\n",
    "field_size_ext.shape"
   ]
  },
  {
   "cell_type": "code",
   "execution_count": 40,
   "metadata": {},
   "outputs": [
    {
     "data": {
      "text/plain": [
       "(14755, 13, 43)"
      ]
     },
     "execution_count": 40,
     "metadata": {},
     "output_type": "execute_result"
    }
   ],
   "source": [
    "features_s = np.concatenate([features_s, field_size_ext], axis=-1)\n",
    "features_s.shape"
   ]
  },
  {
   "cell_type": "markdown",
   "metadata": {},
   "source": [
    "### Extract training data and split train, val"
   ]
  },
  {
   "cell_type": "code",
   "execution_count": 41,
   "metadata": {},
   "outputs": [
    {
     "data": {
      "text/plain": [
       "((10363, 13, 43), (4392, 13, 43))"
      ]
     },
     "execution_count": 41,
     "metadata": {},
     "output_type": "execute_result"
    }
   ],
   "source": [
    "mask = crop_id_s != 0\n",
    "features_valid = features_s[mask]\n",
    "labels_valid = crop_id_s[mask] - 1\n",
    "field_id_valid = field_id_s[mask]\n",
    "weights_valid = weights_s[mask]\n",
    "\n",
    "features_test = features_s[~mask]\n",
    "field_id_test = field_id_s[~mask]\n",
    "\n",
    "features_valid.shape, features_test.shape"
   ]
  },
  {
   "cell_type": "code",
   "execution_count": 42,
   "metadata": {},
   "outputs": [],
   "source": [
    "# # Compute field split and save\n",
    "# val_ratio = 0.1\n",
    "# random_state = np.random.RandomState(seed=42)\n",
    "\n",
    "# fields = np.unique(field_id_valid)\n",
    "# random_state.shuffle(fields)\n",
    "\n",
    "# val_i = int(val_ratio * len(fields))\n",
    "# fields_train = fields[val_i:]\n",
    "# fields_val = fields[:val_i]\n",
    "# fields_test = np.unique(field_id_test)\n",
    "\n",
    "# # Save split\n",
    "# np.save('/mnt/azrael/spatialdata/projects/eo_data/iclr-2020-challange/mlhub/split/train.npy', fields_train)\n",
    "# np.save('/mnt/azrael/spatialdata/projects/eo_data/iclr-2020-challange/mlhub/split/val.npy', fields_val)\n",
    "# np.save('/mnt/azrael/spatialdata/projects/eo_data/iclr-2020-challange/mlhub/split/test.npy', fields_test)\n",
    "# fields_train.shape, fields_val.shape, fields_test.shape"
   ]
  },
  {
   "cell_type": "code",
   "execution_count": 43,
   "metadata": {},
   "outputs": [],
   "source": [
    "# Load training field IDs (split)\n",
    "fields_train = np.load('/mnt/azrael/spatialdata/projects/eo_data/iclr-2020-challange/mlhub/split/train.npy')"
   ]
  },
  {
   "cell_type": "code",
   "execution_count": 44,
   "metadata": {
    "scrolled": true
   },
   "outputs": [
    {
     "name": "stdout",
     "output_type": "stream",
     "text": [
      "Ratio of pixels in train: 0.8999324519926662\n"
     ]
    },
    {
     "data": {
      "text/plain": [
       "((9326, 13, 43), (1037, 13, 43))"
      ]
     },
     "execution_count": 44,
     "metadata": {},
     "output_type": "execute_result"
    }
   ],
   "source": [
    "train_mask = np.isin(field_id_valid, fields_train)\n",
    "print(f'Ratio of pixels in train: {np.mean(train_mask)}')\n",
    "\n",
    "features_train = features_valid[train_mask]\n",
    "labels_train = labels_valid[train_mask]\n",
    "field_id_train = field_id_valid[train_mask]\n",
    "weights_train = weights_valid[train_mask]\n",
    "\n",
    "features_val = features_valid[~train_mask]\n",
    "labels_val = labels_valid[~train_mask]\n",
    "field_id_val = field_id_valid[~train_mask]\n",
    "weights_val = weights_valid[~train_mask]\n",
    "\n",
    "features_train.shape, features_val.shape"
   ]
  },
  {
   "cell_type": "code",
   "execution_count": 45,
   "metadata": {},
   "outputs": [],
   "source": [
    "# Flattened features\n",
    "features_train_flat = features_train.reshape((features_train.shape[0], -1))\n",
    "features_val_flat = features_val.reshape((features_val.shape[0], -1))"
   ]
  },
  {
   "cell_type": "code",
   "execution_count": null,
   "metadata": {},
   "outputs": [],
   "source": []
  },
  {
   "cell_type": "markdown",
   "metadata": {},
   "source": [
    "### Train model"
   ]
  },
  {
   "cell_type": "code",
   "execution_count": 46,
   "metadata": {},
   "outputs": [],
   "source": [
    "from eoflow.models import TempCNNModel, BiRNN, TransformerEncoder"
   ]
  },
  {
   "cell_type": "code",
   "execution_count": 47,
   "metadata": {},
   "outputs": [],
   "source": [
    "# TempCNN model\n",
    "\n",
    "model_config = {\n",
    "    'learning_rate': 0.1,\n",
    "    'n_classes': 7,\n",
    "    'keep_prob': 0.5,\n",
    "    'nb_conv_stacks': 2\n",
    "}\n",
    "model = TempCNNModel(model_config)"
   ]
  },
  {
   "cell_type": "code",
   "execution_count": 48,
   "metadata": {},
   "outputs": [],
   "source": [
    "# BiRNN model\n",
    "\n",
    "# model_config = {\n",
    "#     'learning_rate': 0.1,\n",
    "#     'n_classes': 7,\n",
    "#     'rnn_layer': 'lstm',\n",
    "#     'keep_prob': 0.5\n",
    "# }\n",
    "# model = BiRNN(model_config)"
   ]
  },
  {
   "cell_type": "code",
   "execution_count": 49,
   "metadata": {},
   "outputs": [],
   "source": [
    "# Dense Model\n",
    "\n",
    "# model = tf.keras.Sequential([\n",
    "#     tf.keras.layers.Dense(256, activation='relu'),\n",
    "#     tf.keras.layers.Dropout(rate=0.5),\n",
    "#     tf.keras.layers.Dense(7, activation='softmax')\n",
    "# ])"
   ]
  },
  {
   "cell_type": "code",
   "execution_count": 50,
   "metadata": {},
   "outputs": [],
   "source": [
    "# Class weights\n",
    "# classes = np.unique(labels_valid, return_counts=True)\n",
    "# class_probs = classes[1]/np.sum(classes[1])\n",
    "# class_inv_probs = 1.0 / class_probs\n",
    "# weights = {i:inv_prob for i, inv_prob in enumerate(class_inv_probs)}\n",
    "# weights"
   ]
  },
  {
   "cell_type": "code",
   "execution_count": 51,
   "metadata": {},
   "outputs": [],
   "source": [
    "model.compile(optimizer='adam', loss='sparse_categorical_crossentropy', metrics=['accuracy'])"
   ]
  },
  {
   "cell_type": "code",
   "execution_count": 63,
   "metadata": {
    "scrolled": false
   },
   "outputs": [
    {
     "name": "stdout",
     "output_type": "stream",
     "text": [
      "WARNING:tensorflow:sample_weight modes were coerced from\n",
      "  ...\n",
      "    to  \n",
      "  ['...']\n"
     ]
    },
    {
     "name": "stderr",
     "output_type": "stream",
     "text": [
      "2020-03-10 15:25:14,976 WARNING sample_weight modes were coerced from\n",
      "  ...\n",
      "    to  \n",
      "  ['...']\n"
     ]
    },
    {
     "name": "stdout",
     "output_type": "stream",
     "text": [
      "Train on 9326 samples, validate on 1037 samples\n",
      "Epoch 1/50\n",
      "9326/9326 [==============================] - 1s 76us/sample - loss: 0.3328 - accuracy: 0.6301 - val_loss: 1.1077 - val_accuracy: 0.5950\n",
      "Epoch 2/50\n",
      "9326/9326 [==============================] - 1s 77us/sample - loss: 0.3354 - accuracy: 0.6185 - val_loss: 1.1218 - val_accuracy: 0.5931\n",
      "Epoch 3/50\n",
      "9326/9326 [==============================] - 1s 75us/sample - loss: 0.3366 - accuracy: 0.6178 - val_loss: 1.1085 - val_accuracy: 0.6075\n",
      "Epoch 4/50\n",
      "9326/9326 [==============================] - 1s 73us/sample - loss: 0.3337 - accuracy: 0.6207 - val_loss: 1.1128 - val_accuracy: 0.6066\n",
      "Epoch 5/50\n",
      "9326/9326 [==============================] - 1s 72us/sample - loss: 0.3374 - accuracy: 0.6207 - val_loss: 1.1082 - val_accuracy: 0.6046\n",
      "Epoch 6/50\n",
      "9326/9326 [==============================] - 1s 70us/sample - loss: 0.3373 - accuracy: 0.6220 - val_loss: 1.1203 - val_accuracy: 0.6017\n",
      "Epoch 7/50\n",
      "9326/9326 [==============================] - 1s 72us/sample - loss: 0.3372 - accuracy: 0.6200 - val_loss: 1.1082 - val_accuracy: 0.5911\n",
      "Epoch 8/50\n",
      "9326/9326 [==============================] - 1s 72us/sample - loss: 0.3363 - accuracy: 0.6185 - val_loss: 1.1017 - val_accuracy: 0.5979\n",
      "Epoch 9/50\n",
      "9326/9326 [==============================] - 1s 74us/sample - loss: 0.3358 - accuracy: 0.6192 - val_loss: 1.1030 - val_accuracy: 0.6017\n",
      "Epoch 10/50\n",
      "9326/9326 [==============================] - 1s 80us/sample - loss: 0.3339 - accuracy: 0.6225 - val_loss: 1.1129 - val_accuracy: 0.5931\n",
      "Epoch 11/50\n",
      "9326/9326 [==============================] - 1s 74us/sample - loss: 0.3319 - accuracy: 0.6243 - val_loss: 1.1034 - val_accuracy: 0.5979\n",
      "Epoch 12/50\n",
      "9326/9326 [==============================] - 1s 73us/sample - loss: 0.3317 - accuracy: 0.6272 - val_loss: 1.1089 - val_accuracy: 0.6027\n",
      "Epoch 13/50\n",
      "9326/9326 [==============================] - 1s 76us/sample - loss: 0.3354 - accuracy: 0.6188 - val_loss: 1.1200 - val_accuracy: 0.6008\n",
      "Epoch 14/50\n",
      "9326/9326 [==============================] - 1s 78us/sample - loss: 0.3336 - accuracy: 0.6174 - val_loss: 1.1016 - val_accuracy: 0.6114\n",
      "Epoch 15/50\n",
      "9326/9326 [==============================] - 1s 76us/sample - loss: 0.3339 - accuracy: 0.6212 - val_loss: 1.1159 - val_accuracy: 0.5882\n",
      "Epoch 16/50\n",
      "9326/9326 [==============================] - 1s 71us/sample - loss: 0.3347 - accuracy: 0.6242 - val_loss: 1.1033 - val_accuracy: 0.6037\n",
      "Epoch 17/50\n",
      "9326/9326 [==============================] - 1s 73us/sample - loss: 0.3292 - accuracy: 0.6297 - val_loss: 1.1165 - val_accuracy: 0.5950\n",
      "Epoch 18/50\n",
      "9326/9326 [==============================] - 1s 74us/sample - loss: 0.3346 - accuracy: 0.6258 - val_loss: 1.1181 - val_accuracy: 0.5998\n",
      "Epoch 19/50\n",
      "9326/9326 [==============================] - 1s 83us/sample - loss: 0.3330 - accuracy: 0.6187 - val_loss: 1.1083 - val_accuracy: 0.6075\n",
      "Epoch 20/50\n",
      "9326/9326 [==============================] - 1s 75us/sample - loss: 0.3319 - accuracy: 0.6264 - val_loss: 1.1076 - val_accuracy: 0.5979\n",
      "Epoch 21/50\n",
      "9326/9326 [==============================] - 1s 76us/sample - loss: 0.3364 - accuracy: 0.6184 - val_loss: 1.0993 - val_accuracy: 0.5998\n",
      "Epoch 22/50\n",
      "9326/9326 [==============================] - 1s 81us/sample - loss: 0.3298 - accuracy: 0.6277 - val_loss: 1.1106 - val_accuracy: 0.5892\n",
      "Epoch 23/50\n",
      "9326/9326 [==============================] - 1s 76us/sample - loss: 0.3343 - accuracy: 0.6214 - val_loss: 1.1086 - val_accuracy: 0.6056\n",
      "Epoch 24/50\n",
      "9326/9326 [==============================] - 1s 77us/sample - loss: 0.3326 - accuracy: 0.6259 - val_loss: 1.1038 - val_accuracy: 0.6046\n",
      "Epoch 25/50\n",
      "9326/9326 [==============================] - 1s 80us/sample - loss: 0.3364 - accuracy: 0.6167 - val_loss: 1.1079 - val_accuracy: 0.5998\n",
      "Epoch 26/50\n",
      "9326/9326 [==============================] - 1s 73us/sample - loss: 0.3342 - accuracy: 0.6251 - val_loss: 1.1136 - val_accuracy: 0.5950\n",
      "Epoch 27/50\n",
      "9326/9326 [==============================] - 1s 76us/sample - loss: 0.3325 - accuracy: 0.6216 - val_loss: 1.1176 - val_accuracy: 0.5902\n",
      "Epoch 28/50\n",
      "9326/9326 [==============================] - 1s 72us/sample - loss: 0.3321 - accuracy: 0.6247 - val_loss: 1.1043 - val_accuracy: 0.6027\n",
      "Epoch 29/50\n",
      "9326/9326 [==============================] - 1s 79us/sample - loss: 0.3340 - accuracy: 0.6297 - val_loss: 1.1068 - val_accuracy: 0.6008\n",
      "Epoch 30/50\n",
      "9326/9326 [==============================] - 1s 75us/sample - loss: 0.3342 - accuracy: 0.6249 - val_loss: 1.1022 - val_accuracy: 0.6056\n",
      "Epoch 31/50\n",
      "9326/9326 [==============================] - 1s 78us/sample - loss: 0.3342 - accuracy: 0.6266 - val_loss: 1.1000 - val_accuracy: 0.6027\n",
      "Epoch 32/50\n",
      "9326/9326 [==============================] - 1s 78us/sample - loss: 0.3339 - accuracy: 0.6236 - val_loss: 1.0999 - val_accuracy: 0.6037\n",
      "Epoch 33/50\n",
      "9326/9326 [==============================] - 1s 75us/sample - loss: 0.3315 - accuracy: 0.6242 - val_loss: 1.1079 - val_accuracy: 0.5940\n",
      "Epoch 34/50\n",
      "9326/9326 [==============================] - 1s 80us/sample - loss: 0.3323 - accuracy: 0.6213 - val_loss: 1.1106 - val_accuracy: 0.5940\n",
      "Epoch 35/50\n",
      "9326/9326 [==============================] - 1s 71us/sample - loss: 0.3317 - accuracy: 0.6219 - val_loss: 1.1049 - val_accuracy: 0.5940\n",
      "Epoch 36/50\n",
      "9326/9326 [==============================] - 1s 75us/sample - loss: 0.3295 - accuracy: 0.6299 - val_loss: 1.1074 - val_accuracy: 0.5969\n",
      "Epoch 37/50\n",
      "9326/9326 [==============================] - 1s 77us/sample - loss: 0.3324 - accuracy: 0.6223 - val_loss: 1.1097 - val_accuracy: 0.6056\n",
      "Epoch 38/50\n",
      "9326/9326 [==============================] - 1s 75us/sample - loss: 0.3308 - accuracy: 0.6270 - val_loss: 1.1114 - val_accuracy: 0.6008\n",
      "Epoch 39/50\n",
      "9326/9326 [==============================] - 1s 78us/sample - loss: 0.3315 - accuracy: 0.6249 - val_loss: 1.1123 - val_accuracy: 0.6075\n",
      "Epoch 40/50\n",
      "9326/9326 [==============================] - 1s 70us/sample - loss: 0.3333 - accuracy: 0.6255 - val_loss: 1.0987 - val_accuracy: 0.5998\n",
      "Epoch 41/50\n",
      "9326/9326 [==============================] - 1s 71us/sample - loss: 0.3317 - accuracy: 0.6257 - val_loss: 1.1122 - val_accuracy: 0.6075\n",
      "Epoch 42/50\n",
      "9326/9326 [==============================] - 1s 73us/sample - loss: 0.3315 - accuracy: 0.6267 - val_loss: 1.1213 - val_accuracy: 0.5950\n",
      "Epoch 43/50\n",
      "9326/9326 [==============================] - 1s 77us/sample - loss: 0.3309 - accuracy: 0.6249 - val_loss: 1.1184 - val_accuracy: 0.6066\n",
      "Epoch 44/50\n",
      "9326/9326 [==============================] - 1s 74us/sample - loss: 0.3329 - accuracy: 0.6250 - val_loss: 1.1185 - val_accuracy: 0.6046\n",
      "Epoch 45/50\n",
      "9326/9326 [==============================] - 1s 76us/sample - loss: 0.3300 - accuracy: 0.6282 - val_loss: 1.1198 - val_accuracy: 0.6133\n",
      "Epoch 46/50\n",
      "9326/9326 [==============================] - 1s 78us/sample - loss: 0.3333 - accuracy: 0.6208 - val_loss: 1.1217 - val_accuracy: 0.5940\n",
      "Epoch 47/50\n",
      "9326/9326 [==============================] - 1s 76us/sample - loss: 0.3280 - accuracy: 0.6320 - val_loss: 1.1082 - val_accuracy: 0.6046\n",
      "Epoch 48/50\n",
      "9326/9326 [==============================] - 1s 76us/sample - loss: 0.3319 - accuracy: 0.6243 - val_loss: 1.1109 - val_accuracy: 0.5998\n",
      "Epoch 49/50\n",
      "9326/9326 [==============================] - 1s 79us/sample - loss: 0.3315 - accuracy: 0.6261 - val_loss: 1.1102 - val_accuracy: 0.6095\n",
      "Epoch 50/50\n",
      "9326/9326 [==============================] - 1s 75us/sample - loss: 0.3300 - accuracy: 0.6211 - val_loss: 1.1088 - val_accuracy: 0.6066\n"
     ]
    },
    {
     "data": {
      "text/plain": [
       "<tensorflow.python.keras.callbacks.History at 0x7ff9d009c668>"
      ]
     },
     "execution_count": 63,
     "metadata": {},
     "output_type": "execute_result"
    }
   ],
   "source": [
    "# Temporal\n",
    "model.fit(\n",
    "    x=features_train, \n",
    "    y=labels_train, \n",
    "    validation_data=(features_val, labels_val),\n",
    "    batch_size=256,\n",
    "    epochs=50,\n",
    "    sample_weight=weights_train\n",
    ")\n",
    "\n",
    "# Non-temporal\n",
    "# model.fit(\n",
    "#     x=features_train_flat, \n",
    "#     y=labels_train, \n",
    "#     validation_data=(features_val_flat, labels_val),\n",
    "#     batch_size=1024,\n",
    "#     epochs=10)"
   ]
  },
  {
   "cell_type": "markdown",
   "metadata": {},
   "source": [
    "### Random forest"
   ]
  },
  {
   "cell_type": "code",
   "execution_count": 53,
   "metadata": {},
   "outputs": [
    {
     "data": {
      "text/plain": [
       "RandomForestClassifier(bootstrap=True, ccp_alpha=0.0, class_weight=None,\n",
       "                       criterion='gini', max_depth=None, max_features='auto',\n",
       "                       max_leaf_nodes=None, max_samples=None,\n",
       "                       min_impurity_decrease=0.0, min_impurity_split=None,\n",
       "                       min_samples_leaf=1, min_samples_split=2,\n",
       "                       min_weight_fraction_leaf=0.0, n_estimators=500,\n",
       "                       n_jobs=-1, oob_score=False, random_state=7, verbose=0,\n",
       "                       warm_start=False)"
      ]
     },
     "execution_count": 53,
     "metadata": {},
     "output_type": "execute_result"
    }
   ],
   "source": [
    "from sklearn.ensemble import RandomForestClassifier\n",
    "from sklearn.metrics import log_loss\n",
    "\n",
    "random_state = 7\n",
    "rf = RandomForestClassifier(n_estimators=500, random_state=random_state, n_jobs=-1)\n",
    "\n",
    "rf.fit(features_train_flat, labels_train)"
   ]
  },
  {
   "cell_type": "markdown",
   "metadata": {},
   "source": [
    "### Predictions"
   ]
  },
  {
   "cell_type": "code",
   "execution_count": 64,
   "metadata": {},
   "outputs": [],
   "source": [
    "preds_rf = rf.predict_proba(features_val_flat)\n",
    "preds_dnn = model.predict(features_val)"
   ]
  },
  {
   "cell_type": "code",
   "execution_count": 65,
   "metadata": {},
   "outputs": [
    {
     "data": {
      "text/plain": [
       "((1037, 7), (1037, 7))"
      ]
     },
     "execution_count": 65,
     "metadata": {},
     "output_type": "execute_result"
    }
   ],
   "source": [
    "preds_rf.shape, preds_dnn.shape"
   ]
  },
  {
   "cell_type": "code",
   "execution_count": 66,
   "metadata": {},
   "outputs": [],
   "source": [
    "def one_hot(labels, num_classes):\n",
    "    \"\"\" One-hot encodes integer labels for a given number of classes. \"\"\"\n",
    "    \n",
    "    one_hot_labels = np.zeros((labels.size, num_classes))\n",
    "    one_hot_labels[np.arange(labels.size),labels] = 1\n",
    "    \n",
    "    return one_hot_labels"
   ]
  },
  {
   "cell_type": "code",
   "execution_count": 67,
   "metadata": {},
   "outputs": [],
   "source": [
    "import pandas as pd\n",
    "def field_predictions(predictions, labels, field_ids):\n",
    "    \"\"\" Groups pixel-wise predictions into field predictions by averaging. \"\"\"\n",
    "    \n",
    "    df = pd.DataFrame(predictions)\n",
    "    df['CROP_ID'] = labels\n",
    "    df['FIELD_ID'] = field_ids\n",
    "    \n",
    "    df_grouped = df.groupby('FIELD_ID').mean()\n",
    "    field_preds = df_grouped.drop('CROP_ID', axis=1).values\n",
    "    field_labels = df_grouped['CROP_ID'].values\n",
    "    \n",
    "    return field_preds, field_labels, df_grouped.index"
   ]
  },
  {
   "cell_type": "code",
   "execution_count": 68,
   "metadata": {},
   "outputs": [],
   "source": [
    "# Create onehot labels for val\n",
    "one_hot_labels_val = one_hot(labels_val, 7)"
   ]
  },
  {
   "cell_type": "markdown",
   "metadata": {},
   "source": [
    "### Pixel log loss"
   ]
  },
  {
   "cell_type": "code",
   "execution_count": 69,
   "metadata": {},
   "outputs": [
    {
     "name": "stdout",
     "output_type": "stream",
     "text": [
      "Random forest: 1.2201519914092738\n",
      "DNN: 1.1075955360473144\n"
     ]
    }
   ],
   "source": [
    "rf_loss = log_loss(one_hot_labels_val, preds_rf)\n",
    "dnn_loss = log_loss(one_hot_labels_val, preds_dnn)\n",
    "\n",
    "print(f'Random forest: {rf_loss}')\n",
    "print(f'DNN: {dnn_loss}')"
   ]
  },
  {
   "cell_type": "markdown",
   "metadata": {},
   "source": [
    "### Field log loss"
   ]
  },
  {
   "cell_type": "code",
   "execution_count": 81,
   "metadata": {},
   "outputs": [],
   "source": [
    "preds_rf_field, lbl_rf_field, field_id_rf = field_predictions(preds_rf, labels_val, field_id_val)\n",
    "preds_dnn_field, lbl_dnn_field, field_id_dnn = field_predictions(preds_dnn, labels_val, field_id_val)"
   ]
  },
  {
   "cell_type": "code",
   "execution_count": 82,
   "metadata": {},
   "outputs": [],
   "source": [
    "lbl_rf_field_oh = one_hot(lbl_rf_field, 7)\n",
    "lbl_dnn_field_oh = one_hot(lbl_dnn_field, 7)"
   ]
  },
  {
   "cell_type": "code",
   "execution_count": 83,
   "metadata": {},
   "outputs": [
    {
     "name": "stdout",
     "output_type": "stream",
     "text": [
      "Random forest: 1.239690186361492\n",
      "DNN: 1.127511332874192\n"
     ]
    }
   ],
   "source": [
    "rf_loss_field = log_loss(lbl_rf_field_oh, preds_rf_field)\n",
    "dnn_loss_field = log_loss(lbl_dnn_field_oh, preds_dnn_field)\n",
    "\n",
    "print(f'Random forest: {rf_loss_field}')\n",
    "print(f'DNN: {dnn_loss_field}')"
   ]
  },
  {
   "cell_type": "markdown",
   "metadata": {},
   "source": [
    "## Prepare predictions for analysis"
   ]
  },
  {
   "cell_type": "code",
   "execution_count": 84,
   "metadata": {},
   "outputs": [],
   "source": [
    "import pandas as pd"
   ]
  },
  {
   "cell_type": "code",
   "execution_count": 85,
   "metadata": {},
   "outputs": [],
   "source": [
    "def prepare_predictions(preds, labels, field_ids):\n",
    "    preds_l = np.argmax(preds, axis=1)\n",
    "\n",
    "    df = pd.DataFrame(preds, columns=[f'Crop_ID_{i+1}' for i in range(7)])\n",
    "    df['Field_ID'] = field_ids\n",
    "    df['prediction'] = preds_l+1\n",
    "    df['label'] = labels+1\n",
    "    \n",
    "    df = df.set_index('Field_ID')\n",
    "    \n",
    "    return df"
   ]
  },
  {
   "cell_type": "code",
   "execution_count": 86,
   "metadata": {},
   "outputs": [
    {
     "data": {
      "text/html": [
       "<div>\n",
       "<style scoped>\n",
       "    .dataframe tbody tr th:only-of-type {\n",
       "        vertical-align: middle;\n",
       "    }\n",
       "\n",
       "    .dataframe tbody tr th {\n",
       "        vertical-align: top;\n",
       "    }\n",
       "\n",
       "    .dataframe thead th {\n",
       "        text-align: right;\n",
       "    }\n",
       "</style>\n",
       "<table border=\"1\" class=\"dataframe\">\n",
       "  <thead>\n",
       "    <tr style=\"text-align: right;\">\n",
       "      <th></th>\n",
       "      <th>Crop_ID_1</th>\n",
       "      <th>Crop_ID_2</th>\n",
       "      <th>Crop_ID_3</th>\n",
       "      <th>Crop_ID_4</th>\n",
       "      <th>Crop_ID_5</th>\n",
       "      <th>Crop_ID_6</th>\n",
       "      <th>Crop_ID_7</th>\n",
       "      <th>prediction</th>\n",
       "      <th>label</th>\n",
       "    </tr>\n",
       "    <tr>\n",
       "      <th>Field_ID</th>\n",
       "      <th></th>\n",
       "      <th></th>\n",
       "      <th></th>\n",
       "      <th></th>\n",
       "      <th></th>\n",
       "      <th></th>\n",
       "      <th></th>\n",
       "      <th></th>\n",
       "      <th></th>\n",
       "    </tr>\n",
       "  </thead>\n",
       "  <tbody>\n",
       "    <tr>\n",
       "      <th>1</th>\n",
       "      <td>0.232000</td>\n",
       "      <td>0.530000</td>\n",
       "      <td>0.018000</td>\n",
       "      <td>0.086000</td>\n",
       "      <td>0.082000</td>\n",
       "      <td>0.036000</td>\n",
       "      <td>0.016000</td>\n",
       "      <td>2</td>\n",
       "      <td>1</td>\n",
       "    </tr>\n",
       "    <tr>\n",
       "      <th>27</th>\n",
       "      <td>0.633333</td>\n",
       "      <td>0.216000</td>\n",
       "      <td>0.026667</td>\n",
       "      <td>0.043333</td>\n",
       "      <td>0.016667</td>\n",
       "      <td>0.056667</td>\n",
       "      <td>0.007333</td>\n",
       "      <td>1</td>\n",
       "      <td>2</td>\n",
       "    </tr>\n",
       "    <tr>\n",
       "      <th>33</th>\n",
       "      <td>0.298000</td>\n",
       "      <td>0.301333</td>\n",
       "      <td>0.123333</td>\n",
       "      <td>0.141333</td>\n",
       "      <td>0.049333</td>\n",
       "      <td>0.035333</td>\n",
       "      <td>0.051333</td>\n",
       "      <td>2</td>\n",
       "      <td>2</td>\n",
       "    </tr>\n",
       "    <tr>\n",
       "      <th>44</th>\n",
       "      <td>0.331333</td>\n",
       "      <td>0.484667</td>\n",
       "      <td>0.020667</td>\n",
       "      <td>0.060667</td>\n",
       "      <td>0.030000</td>\n",
       "      <td>0.046667</td>\n",
       "      <td>0.026000</td>\n",
       "      <td>2</td>\n",
       "      <td>1</td>\n",
       "    </tr>\n",
       "    <tr>\n",
       "      <th>50</th>\n",
       "      <td>0.213333</td>\n",
       "      <td>0.491333</td>\n",
       "      <td>0.018000</td>\n",
       "      <td>0.129333</td>\n",
       "      <td>0.088667</td>\n",
       "      <td>0.040000</td>\n",
       "      <td>0.019333</td>\n",
       "      <td>2</td>\n",
       "      <td>5</td>\n",
       "    </tr>\n",
       "    <tr>\n",
       "      <th>...</th>\n",
       "      <td>...</td>\n",
       "      <td>...</td>\n",
       "      <td>...</td>\n",
       "      <td>...</td>\n",
       "      <td>...</td>\n",
       "      <td>...</td>\n",
       "      <td>...</td>\n",
       "      <td>...</td>\n",
       "      <td>...</td>\n",
       "    </tr>\n",
       "    <tr>\n",
       "      <th>4717</th>\n",
       "      <td>0.580000</td>\n",
       "      <td>0.249333</td>\n",
       "      <td>0.007333</td>\n",
       "      <td>0.052667</td>\n",
       "      <td>0.062000</td>\n",
       "      <td>0.036000</td>\n",
       "      <td>0.012667</td>\n",
       "      <td>1</td>\n",
       "      <td>1</td>\n",
       "    </tr>\n",
       "    <tr>\n",
       "      <th>4733</th>\n",
       "      <td>0.526600</td>\n",
       "      <td>0.044800</td>\n",
       "      <td>0.032200</td>\n",
       "      <td>0.249000</td>\n",
       "      <td>0.049800</td>\n",
       "      <td>0.084000</td>\n",
       "      <td>0.013600</td>\n",
       "      <td>1</td>\n",
       "      <td>1</td>\n",
       "    </tr>\n",
       "    <tr>\n",
       "      <th>4735</th>\n",
       "      <td>0.296000</td>\n",
       "      <td>0.184667</td>\n",
       "      <td>0.035333</td>\n",
       "      <td>0.184667</td>\n",
       "      <td>0.057333</td>\n",
       "      <td>0.238000</td>\n",
       "      <td>0.004000</td>\n",
       "      <td>1</td>\n",
       "      <td>4</td>\n",
       "    </tr>\n",
       "    <tr>\n",
       "      <th>4775</th>\n",
       "      <td>0.453333</td>\n",
       "      <td>0.273333</td>\n",
       "      <td>0.012000</td>\n",
       "      <td>0.120667</td>\n",
       "      <td>0.056667</td>\n",
       "      <td>0.069333</td>\n",
       "      <td>0.014667</td>\n",
       "      <td>1</td>\n",
       "      <td>1</td>\n",
       "    </tr>\n",
       "    <tr>\n",
       "      <th>4781</th>\n",
       "      <td>0.450667</td>\n",
       "      <td>0.154000</td>\n",
       "      <td>0.055333</td>\n",
       "      <td>0.186667</td>\n",
       "      <td>0.049333</td>\n",
       "      <td>0.049333</td>\n",
       "      <td>0.054667</td>\n",
       "      <td>1</td>\n",
       "      <td>1</td>\n",
       "    </tr>\n",
       "  </tbody>\n",
       "</table>\n",
       "<p>328 rows × 9 columns</p>\n",
       "</div>"
      ],
      "text/plain": [
       "          Crop_ID_1  Crop_ID_2  Crop_ID_3  Crop_ID_4  Crop_ID_5  Crop_ID_6  \\\n",
       "Field_ID                                                                     \n",
       "1          0.232000   0.530000   0.018000   0.086000   0.082000   0.036000   \n",
       "27         0.633333   0.216000   0.026667   0.043333   0.016667   0.056667   \n",
       "33         0.298000   0.301333   0.123333   0.141333   0.049333   0.035333   \n",
       "44         0.331333   0.484667   0.020667   0.060667   0.030000   0.046667   \n",
       "50         0.213333   0.491333   0.018000   0.129333   0.088667   0.040000   \n",
       "...             ...        ...        ...        ...        ...        ...   \n",
       "4717       0.580000   0.249333   0.007333   0.052667   0.062000   0.036000   \n",
       "4733       0.526600   0.044800   0.032200   0.249000   0.049800   0.084000   \n",
       "4735       0.296000   0.184667   0.035333   0.184667   0.057333   0.238000   \n",
       "4775       0.453333   0.273333   0.012000   0.120667   0.056667   0.069333   \n",
       "4781       0.450667   0.154000   0.055333   0.186667   0.049333   0.049333   \n",
       "\n",
       "          Crop_ID_7  prediction  label  \n",
       "Field_ID                                \n",
       "1          0.016000           2      1  \n",
       "27         0.007333           1      2  \n",
       "33         0.051333           2      2  \n",
       "44         0.026000           2      1  \n",
       "50         0.019333           2      5  \n",
       "...             ...         ...    ...  \n",
       "4717       0.012667           1      1  \n",
       "4733       0.013600           1      1  \n",
       "4735       0.004000           1      4  \n",
       "4775       0.014667           1      1  \n",
       "4781       0.054667           1      1  \n",
       "\n",
       "[328 rows x 9 columns]"
      ]
     },
     "execution_count": 86,
     "metadata": {},
     "output_type": "execute_result"
    }
   ],
   "source": [
    "df_dnn = prepare_predictions(preds_dnn_field, lbl_dnn_field, field_id_dnn)"
   ]
  },
  {
   "cell_type": "code",
   "execution_count": 87,
   "metadata": {},
   "outputs": [
    {
     "data": {
      "text/plain": [
       "0.5945121951219512"
      ]
     },
     "execution_count": 87,
     "metadata": {},
     "output_type": "execute_result"
    }
   ],
   "source": [
    "np.mean(df_dnn['prediction'] == df_dnn['label'])"
   ]
  },
  {
   "cell_type": "code",
   "execution_count": 88,
   "metadata": {},
   "outputs": [],
   "source": [
    "df_dnn.to_csv(f'/mnt/azrael/spatialdata/projects/eo_data/iclr-2020-challange/mlhub/val_predictions/{model_name}.csv')"
   ]
  },
  {
   "cell_type": "markdown",
   "metadata": {},
   "source": [
    "## Prepare results for submission"
   ]
  },
  {
   "cell_type": "code",
   "execution_count": 53,
   "metadata": {},
   "outputs": [],
   "source": [
    "# Train best model on whole training dataset (without val)\n",
    "# TempCNN model\n",
    "\n",
    "model_config = {\n",
    "    'learning_rate': 0.1,\n",
    "    'n_classes': 7,\n",
    "    'keep_prob': 0.5,\n",
    "    'nb_conv_stacks': 2\n",
    "}\n",
    "model_final = TempCNNModel(model_config)\n",
    "model_final.compile(optimizer='adam', loss='sparse_categorical_crossentropy', metrics=['accuracy'])"
   ]
  },
  {
   "cell_type": "code",
   "execution_count": 54,
   "metadata": {
    "scrolled": false
   },
   "outputs": [
    {
     "name": "stdout",
     "output_type": "stream",
     "text": [
      "Model: \"model_1\"\n",
      "_________________________________________________________________\n",
      "Layer (type)                 Output Shape              Param #   \n",
      "=================================================================\n",
      "input_2 (InputLayer)         [(None, 13, 42)]          0         \n",
      "_________________________________________________________________\n",
      "conv1d_2 (Conv1D)            (None, 13, 16)            3376      \n",
      "_________________________________________________________________\n",
      "activation_3 (Activation)    (None, 13, 16)            0         \n",
      "_________________________________________________________________\n",
      "dropout_3 (Dropout)          (None, 13, 16)            0         \n",
      "_________________________________________________________________\n",
      "conv1d_3 (Conv1D)            (None, 13, 16)            1296      \n",
      "_________________________________________________________________\n",
      "activation_4 (Activation)    (None, 13, 16)            0         \n",
      "_________________________________________________________________\n",
      "dropout_4 (Dropout)          (None, 13, 16)            0         \n",
      "_________________________________________________________________\n",
      "flatten_1 (Flatten)          (None, 208)               0         \n",
      "_________________________________________________________________\n",
      "dense_2 (Dense)              (None, 256)               53504     \n",
      "_________________________________________________________________\n",
      "activation_5 (Activation)    (None, 256)               0         \n",
      "_________________________________________________________________\n",
      "dropout_5 (Dropout)          (None, 256)               0         \n",
      "_________________________________________________________________\n",
      "dense_3 (Dense)              (None, 7)                 1799      \n",
      "_________________________________________________________________\n",
      "softmax_1 (Softmax)          (None, 7)                 0         \n",
      "=================================================================\n",
      "Total params: 59,975\n",
      "Trainable params: 59,975\n",
      "Non-trainable params: 0\n",
      "_________________________________________________________________\n",
      "WARNING:tensorflow:sample_weight modes were coerced from\n",
      "  ...\n",
      "    to  \n",
      "  ['...']\n"
     ]
    },
    {
     "name": "stderr",
     "output_type": "stream",
     "text": [
      "2020-03-10 10:48:16,323 WARNING sample_weight modes were coerced from\n",
      "  ...\n",
      "    to  \n",
      "  ['...']\n"
     ]
    },
    {
     "name": "stdout",
     "output_type": "stream",
     "text": [
      "Train on 10363 samples\n",
      "Epoch 1/250\n",
      "10363/10363 [==============================] - 2s 165us/sample - loss: 0.7074 - accuracy: 0.3393\n",
      "Epoch 2/250\n",
      "10363/10363 [==============================] - 1s 68us/sample - loss: 0.5031 - accuracy: 0.4262\n",
      "Epoch 3/250\n",
      "10363/10363 [==============================] - ETA: 0s - loss: 0.4835 - accuracy: 0.45 - 1s 67us/sample - loss: 0.4829 - accuracy: 0.4528\n",
      "Epoch 4/250\n",
      "10363/10363 [==============================] - 1s 69us/sample - loss: 0.4697 - accuracy: 0.4740\n",
      "Epoch 5/250\n",
      "10363/10363 [==============================] - 1s 68us/sample - loss: 0.4578 - accuracy: 0.4931\n",
      "Epoch 6/250\n",
      "10363/10363 [==============================] - 1s 67us/sample - loss: 0.4521 - accuracy: 0.5049\n",
      "Epoch 7/250\n",
      "10363/10363 [==============================] - 1s 68us/sample - loss: 0.4494 - accuracy: 0.5146\n",
      "Epoch 8/250\n",
      "10363/10363 [==============================] - 1s 67us/sample - loss: 0.4427 - accuracy: 0.5187\n",
      "Epoch 9/250\n",
      "10363/10363 [==============================] - 1s 68us/sample - loss: 0.4410 - accuracy: 0.5214\n",
      "Epoch 10/250\n",
      "10363/10363 [==============================] - 1s 67us/sample - loss: 0.4364 - accuracy: 0.5281\n",
      "Epoch 11/250\n",
      "10363/10363 [==============================] - 1s 69us/sample - loss: 0.4347 - accuracy: 0.5303\n",
      "Epoch 12/250\n",
      "10363/10363 [==============================] - 1s 73us/sample - loss: 0.4315 - accuracy: 0.5305\n",
      "Epoch 13/250\n",
      "10363/10363 [==============================] - 1s 71us/sample - loss: 0.4298 - accuracy: 0.5367\n",
      "Epoch 14/250\n",
      "10363/10363 [==============================] - 1s 73us/sample - loss: 0.4270 - accuracy: 0.5375\n",
      "Epoch 15/250\n",
      "10363/10363 [==============================] - 1s 71us/sample - loss: 0.4235 - accuracy: 0.5422\n",
      "Epoch 16/250\n",
      "10363/10363 [==============================] - 1s 69us/sample - loss: 0.4230 - accuracy: 0.5372\n",
      "Epoch 17/250\n",
      "10363/10363 [==============================] - 1s 70us/sample - loss: 0.4219 - accuracy: 0.5446\n",
      "Epoch 18/250\n",
      "10363/10363 [==============================] - 1s 77us/sample - loss: 0.4186 - accuracy: 0.5478\n",
      "Epoch 19/250\n",
      "10363/10363 [==============================] - 1s 68us/sample - loss: 0.4189 - accuracy: 0.5500\n",
      "Epoch 20/250\n",
      "10363/10363 [==============================] - 1s 68us/sample - loss: 0.4181 - accuracy: 0.5455\n",
      "Epoch 21/250\n",
      "10363/10363 [==============================] - 1s 74us/sample - loss: 0.4177 - accuracy: 0.5503\n",
      "Epoch 22/250\n",
      "10363/10363 [==============================] - 1s 70us/sample - loss: 0.4142 - accuracy: 0.5479\n",
      "Epoch 23/250\n",
      "10363/10363 [==============================] - 1s 68us/sample - loss: 0.4128 - accuracy: 0.5557\n",
      "Epoch 24/250\n",
      "10363/10363 [==============================] - 1s 75us/sample - loss: 0.4114 - accuracy: 0.5540\n",
      "Epoch 25/250\n",
      "10363/10363 [==============================] - 1s 68us/sample - loss: 0.4093 - accuracy: 0.5540\n",
      "Epoch 26/250\n",
      "10363/10363 [==============================] - 1s 71us/sample - loss: 0.4060 - accuracy: 0.5587\n",
      "Epoch 27/250\n",
      "10363/10363 [==============================] - 1s 75us/sample - loss: 0.4072 - accuracy: 0.5581\n",
      "Epoch 28/250\n",
      "10363/10363 [==============================] - 1s 69us/sample - loss: 0.4038 - accuracy: 0.5566\n",
      "Epoch 29/250\n",
      "10363/10363 [==============================] - 1s 75us/sample - loss: 0.4060 - accuracy: 0.5562\n",
      "Epoch 30/250\n",
      "10363/10363 [==============================] - 1s 70us/sample - loss: 0.4059 - accuracy: 0.5552\n",
      "Epoch 31/250\n",
      "10363/10363 [==============================] - 1s 69us/sample - loss: 0.4039 - accuracy: 0.5604\n",
      "Epoch 32/250\n",
      "10363/10363 [==============================] - 1s 67us/sample - loss: 0.4026 - accuracy: 0.5613\n",
      "Epoch 33/250\n",
      "10363/10363 [==============================] - 1s 67us/sample - loss: 0.4013 - accuracy: 0.5634\n",
      "Epoch 34/250\n",
      "10363/10363 [==============================] - 1s 75us/sample - loss: 0.4004 - accuracy: 0.5642\n",
      "Epoch 35/250\n",
      "10363/10363 [==============================] - 1s 70us/sample - loss: 0.3993 - accuracy: 0.5625\n",
      "Epoch 36/250\n",
      "10363/10363 [==============================] - 1s 72us/sample - loss: 0.3986 - accuracy: 0.5648\n",
      "Epoch 37/250\n",
      "10363/10363 [==============================] - 1s 71us/sample - loss: 0.3963 - accuracy: 0.5673\n",
      "Epoch 38/250\n",
      "10363/10363 [==============================] - 1s 71us/sample - loss: 0.3963 - accuracy: 0.5674\n",
      "Epoch 39/250\n",
      "10363/10363 [==============================] - 1s 73us/sample - loss: 0.3965 - accuracy: 0.5629\n",
      "Epoch 40/250\n",
      "10363/10363 [==============================] - 1s 69us/sample - loss: 0.3949 - accuracy: 0.5708\n",
      "Epoch 41/250\n",
      "10363/10363 [==============================] - 1s 70us/sample - loss: 0.3908 - accuracy: 0.5740\n",
      "Epoch 42/250\n",
      "10363/10363 [==============================] - 1s 73us/sample - loss: 0.3916 - accuracy: 0.5699\n",
      "Epoch 43/250\n",
      "10363/10363 [==============================] - 1s 68us/sample - loss: 0.3907 - accuracy: 0.5725\n",
      "Epoch 44/250\n",
      "10363/10363 [==============================] - 1s 68us/sample - loss: 0.3905 - accuracy: 0.5687\n",
      "Epoch 45/250\n",
      "10363/10363 [==============================] - 1s 69us/sample - loss: 0.3901 - accuracy: 0.5774\n",
      "Epoch 46/250\n",
      "10363/10363 [==============================] - 1s 74us/sample - loss: 0.3912 - accuracy: 0.5748\n",
      "Epoch 47/250\n",
      "10363/10363 [==============================] - 1s 68us/sample - loss: 0.3870 - accuracy: 0.5739\n",
      "Epoch 48/250\n",
      "10363/10363 [==============================] - 1s 70us/sample - loss: 0.3898 - accuracy: 0.5749\n",
      "Epoch 49/250\n",
      "10363/10363 [==============================] - 1s 69us/sample - loss: 0.3901 - accuracy: 0.5757\n",
      "Epoch 50/250\n",
      "10363/10363 [==============================] - 1s 74us/sample - loss: 0.3865 - accuracy: 0.5727\n",
      "Epoch 51/250\n",
      "10363/10363 [==============================] - 1s 68us/sample - loss: 0.3885 - accuracy: 0.5748\n",
      "Epoch 52/250\n",
      "10363/10363 [==============================] - 1s 71us/sample - loss: 0.3860 - accuracy: 0.5718\n",
      "Epoch 53/250\n",
      "10363/10363 [==============================] - 1s 73us/sample - loss: 0.3853 - accuracy: 0.5799\n",
      "Epoch 54/250\n",
      "10363/10363 [==============================] - 1s 70us/sample - loss: 0.3815 - accuracy: 0.5769\n",
      "Epoch 55/250\n",
      "10363/10363 [==============================] - 1s 71us/sample - loss: 0.3847 - accuracy: 0.5757\n",
      "Epoch 56/250\n",
      "10363/10363 [==============================] - 1s 70us/sample - loss: 0.3809 - accuracy: 0.5811\n",
      "Epoch 57/250\n",
      "10363/10363 [==============================] - 1s 70us/sample - loss: 0.3831 - accuracy: 0.5790\n",
      "Epoch 58/250\n",
      "10363/10363 [==============================] - 1s 68us/sample - loss: 0.3811 - accuracy: 0.5773\n",
      "Epoch 59/250\n",
      "10363/10363 [==============================] - 1s 70us/sample - loss: 0.3821 - accuracy: 0.5773\n",
      "Epoch 60/250\n",
      "10363/10363 [==============================] - 1s 74us/sample - loss: 0.3817 - accuracy: 0.5750\n",
      "Epoch 61/250\n",
      "10363/10363 [==============================] - 1s 68us/sample - loss: 0.3813 - accuracy: 0.5843\n",
      "Epoch 62/250\n",
      "10363/10363 [==============================] - 1s 69us/sample - loss: 0.3811 - accuracy: 0.5799\n",
      "Epoch 63/250\n",
      "10363/10363 [==============================] - 1s 68us/sample - loss: 0.3805 - accuracy: 0.5824\n",
      "Epoch 64/250\n",
      "10363/10363 [==============================] - 1s 67us/sample - loss: 0.3793 - accuracy: 0.5839\n",
      "Epoch 65/250\n",
      "10363/10363 [==============================] - 1s 67us/sample - loss: 0.3792 - accuracy: 0.5810\n",
      "Epoch 66/250\n",
      "10363/10363 [==============================] - 1s 67us/sample - loss: 0.3771 - accuracy: 0.5793\n",
      "Epoch 67/250\n",
      "10363/10363 [==============================] - 1s 68us/sample - loss: 0.3778 - accuracy: 0.5790\n",
      "Epoch 68/250\n",
      "10363/10363 [==============================] - 1s 67us/sample - loss: 0.3752 - accuracy: 0.5840\n",
      "Epoch 69/250\n",
      "10363/10363 [==============================] - 1s 68us/sample - loss: 0.3764 - accuracy: 0.5834\n",
      "Epoch 70/250\n",
      "10363/10363 [==============================] - 1s 68us/sample - loss: 0.3772 - accuracy: 0.5839\n",
      "Epoch 71/250\n",
      "10363/10363 [==============================] - 1s 67us/sample - loss: 0.3756 - accuracy: 0.5859\n",
      "Epoch 72/250\n",
      "10363/10363 [==============================] - 1s 69us/sample - loss: 0.3754 - accuracy: 0.5830\n",
      "Epoch 73/250\n",
      "10363/10363 [==============================] - 1s 74us/sample - loss: 0.3730 - accuracy: 0.5897\n",
      "Epoch 74/250\n",
      "10363/10363 [==============================] - 1s 67us/sample - loss: 0.3720 - accuracy: 0.5873\n",
      "Epoch 75/250\n",
      "10363/10363 [==============================] - 1s 67us/sample - loss: 0.3741 - accuracy: 0.5833\n",
      "Epoch 76/250\n",
      "10363/10363 [==============================] - 1s 73us/sample - loss: 0.3714 - accuracy: 0.5875\n",
      "Epoch 77/250\n",
      "10363/10363 [==============================] - 1s 72us/sample - loss: 0.3744 - accuracy: 0.5875\n",
      "Epoch 78/250\n",
      "10363/10363 [==============================] - 1s 68us/sample - loss: 0.3736 - accuracy: 0.5854\n",
      "Epoch 79/250\n",
      "10363/10363 [==============================] - 1s 68us/sample - loss: 0.3701 - accuracy: 0.5882\n",
      "Epoch 80/250\n",
      "10363/10363 [==============================] - 1s 74us/sample - loss: 0.3736 - accuracy: 0.5844\n",
      "Epoch 81/250\n",
      "10363/10363 [==============================] - 1s 70us/sample - loss: 0.3707 - accuracy: 0.5883\n",
      "Epoch 82/250\n",
      "10363/10363 [==============================] - 1s 70us/sample - loss: 0.3708 - accuracy: 0.5885\n",
      "Epoch 83/250\n",
      "10363/10363 [==============================] - 1s 73us/sample - loss: 0.3715 - accuracy: 0.5889\n",
      "Epoch 84/250\n",
      "10363/10363 [==============================] - 1s 70us/sample - loss: 0.3729 - accuracy: 0.5876\n",
      "Epoch 85/250\n",
      "10363/10363 [==============================] - 1s 68us/sample - loss: 0.3705 - accuracy: 0.5868\n",
      "Epoch 86/250\n",
      "10363/10363 [==============================] - 1s 70us/sample - loss: 0.3694 - accuracy: 0.5871\n",
      "Epoch 87/250\n",
      "10363/10363 [==============================] - 1s 73us/sample - loss: 0.3667 - accuracy: 0.5885\n",
      "Epoch 88/250\n",
      "10363/10363 [==============================] - 1s 68us/sample - loss: 0.3705 - accuracy: 0.5894\n",
      "Epoch 89/250\n",
      "10363/10363 [==============================] - 1s 70us/sample - loss: 0.3671 - accuracy: 0.5873\n",
      "Epoch 90/250\n",
      "10363/10363 [==============================] - 1s 71us/sample - loss: 0.3692 - accuracy: 0.5893\n",
      "Epoch 91/250\n",
      "10363/10363 [==============================] - 1s 69us/sample - loss: 0.3669 - accuracy: 0.5952\n",
      "Epoch 92/250\n",
      "10363/10363 [==============================] - 1s 68us/sample - loss: 0.3666 - accuracy: 0.5901\n",
      "Epoch 93/250\n",
      "10363/10363 [==============================] - 1s 68us/sample - loss: 0.3632 - accuracy: 0.5946\n",
      "Epoch 94/250\n",
      "10363/10363 [==============================] - 1s 73us/sample - loss: 0.3648 - accuracy: 0.5906\n",
      "Epoch 95/250\n",
      "10363/10363 [==============================] - 1s 68us/sample - loss: 0.3671 - accuracy: 0.5907s - loss: 0.3621 \n",
      "Epoch 96/250\n",
      "10363/10363 [==============================] - 1s 68us/sample - loss: 0.3668 - accuracy: 0.5957\n",
      "Epoch 97/250\n",
      "10363/10363 [==============================] - 1s 68us/sample - loss: 0.3674 - accuracy: 0.5928\n",
      "Epoch 98/250\n",
      "10363/10363 [==============================] - 1s 70us/sample - loss: 0.3631 - accuracy: 0.5976\n",
      "Epoch 99/250\n",
      "10363/10363 [==============================] - 1s 71us/sample - loss: 0.3639 - accuracy: 0.5951\n",
      "Epoch 100/250\n",
      "10363/10363 [==============================] - 1s 68us/sample - loss: 0.3647 - accuracy: 0.5943\n",
      "Epoch 101/250\n",
      "10363/10363 [==============================] - 1s 69us/sample - loss: 0.3633 - accuracy: 0.5964\n",
      "Epoch 102/250\n",
      "10363/10363 [==============================] - 1s 66us/sample - loss: 0.3625 - accuracy: 0.5954\n",
      "Epoch 103/250\n",
      "10363/10363 [==============================] - 1s 71us/sample - loss: 0.3643 - accuracy: 0.5940\n",
      "Epoch 104/250\n",
      "10363/10363 [==============================] - 1s 70us/sample - loss: 0.3624 - accuracy: 0.5936\n",
      "Epoch 105/250\n",
      "10363/10363 [==============================] - 1s 68us/sample - loss: 0.3646 - accuracy: 0.5933\n",
      "Epoch 106/250\n",
      "10363/10363 [==============================] - 1s 67us/sample - loss: 0.3643 - accuracy: 0.5953\n",
      "Epoch 107/250\n",
      "10363/10363 [==============================] - 1s 73us/sample - loss: 0.3626 - accuracy: 0.5950\n",
      "Epoch 108/250\n",
      "10363/10363 [==============================] - 1s 68us/sample - loss: 0.3620 - accuracy: 0.5961\n",
      "Epoch 109/250\n",
      "10363/10363 [==============================] - 1s 68us/sample - loss: 0.3633 - accuracy: 0.5936\n",
      "Epoch 110/250\n",
      "10363/10363 [==============================] - 1s 72us/sample - loss: 0.3606 - accuracy: 0.6009\n",
      "Epoch 111/250\n",
      "10363/10363 [==============================] - 1s 68us/sample - loss: 0.3612 - accuracy: 0.5955\n",
      "Epoch 112/250\n",
      "10363/10363 [==============================] - 1s 69us/sample - loss: 0.3649 - accuracy: 0.5925\n",
      "Epoch 113/250\n",
      "10363/10363 [==============================] - 1s 74us/sample - loss: 0.3581 - accuracy: 0.5979\n",
      "Epoch 114/250\n",
      "10363/10363 [==============================] - 1s 67us/sample - loss: 0.3589 - accuracy: 0.5984\n",
      "Epoch 115/250\n",
      "10363/10363 [==============================] - 1s 68us/sample - loss: 0.3597 - accuracy: 0.6005\n",
      "Epoch 116/250\n",
      "10363/10363 [==============================] - 1s 74us/sample - loss: 0.3608 - accuracy: 0.6017\n",
      "Epoch 117/250\n",
      "10363/10363 [==============================] - 1s 68us/sample - loss: 0.3620 - accuracy: 0.5922\n",
      "Epoch 118/250\n",
      "10363/10363 [==============================] - 1s 73us/sample - loss: 0.3568 - accuracy: 0.6016\n",
      "Epoch 119/250\n",
      "10363/10363 [==============================] - 1s 71us/sample - loss: 0.3575 - accuracy: 0.6014\n",
      "Epoch 120/250\n",
      "10363/10363 [==============================] - 1s 69us/sample - loss: 0.3593 - accuracy: 0.5992\n",
      "Epoch 121/250\n",
      "10363/10363 [==============================] - 1s 72us/sample - loss: 0.3565 - accuracy: 0.6043\n",
      "Epoch 122/250\n",
      "10363/10363 [==============================] - 1s 67us/sample - loss: 0.3587 - accuracy: 0.5981\n",
      "Epoch 123/250\n",
      "10363/10363 [==============================] - 1s 65us/sample - loss: 0.3578 - accuracy: 0.6015\n",
      "Epoch 124/250\n",
      "10363/10363 [==============================] - 1s 67us/sample - loss: 0.3595 - accuracy: 0.5985\n",
      "Epoch 125/250\n",
      "10363/10363 [==============================] - 1s 68us/sample - loss: 0.3578 - accuracy: 0.5998\n",
      "Epoch 126/250\n",
      "10363/10363 [==============================] - 1s 74us/sample - loss: 0.3567 - accuracy: 0.6001\n",
      "Epoch 127/250\n",
      "10363/10363 [==============================] - 1s 70us/sample - loss: 0.3570 - accuracy: 0.5975\n",
      "Epoch 128/250\n",
      "10363/10363 [==============================] - 1s 70us/sample - loss: 0.3548 - accuracy: 0.6047\n",
      "Epoch 129/250\n",
      "10363/10363 [==============================] - 1s 73us/sample - loss: 0.3518 - accuracy: 0.6037\n",
      "Epoch 130/250\n",
      "10363/10363 [==============================] - 1s 68us/sample - loss: 0.3572 - accuracy: 0.6017\n",
      "Epoch 131/250\n",
      "10363/10363 [==============================] - 1s 67us/sample - loss: 0.3561 - accuracy: 0.6002\n",
      "Epoch 132/250\n",
      "10363/10363 [==============================] - 1s 67us/sample - loss: 0.3550 - accuracy: 0.6014\n",
      "Epoch 133/250\n",
      "10363/10363 [==============================] - 1s 67us/sample - loss: 0.3538 - accuracy: 0.6057\n",
      "Epoch 134/250\n",
      "10363/10363 [==============================] - 1s 67us/sample - loss: 0.3550 - accuracy: 0.6033\n",
      "Epoch 135/250\n",
      "10363/10363 [==============================] - 1s 68us/sample - loss: 0.3536 - accuracy: 0.6043\n",
      "Epoch 136/250\n",
      "10363/10363 [==============================] - 1s 68us/sample - loss: 0.3543 - accuracy: 0.6043\n",
      "Epoch 137/250\n",
      "10363/10363 [==============================] - 1s 73us/sample - loss: 0.3550 - accuracy: 0.6022\n",
      "Epoch 138/250\n",
      "10363/10363 [==============================] - 1s 69us/sample - loss: 0.3549 - accuracy: 0.6042\n",
      "Epoch 139/250\n",
      "10363/10363 [==============================] - 1s 69us/sample - loss: 0.3551 - accuracy: 0.6025\n",
      "Epoch 140/250\n",
      "10363/10363 [==============================] - 1s 74us/sample - loss: 0.3540 - accuracy: 0.5992\n",
      "Epoch 141/250\n",
      "10363/10363 [==============================] - 1s 71us/sample - loss: 0.3552 - accuracy: 0.6033s - loss: 0\n",
      "Epoch 142/250\n",
      "10363/10363 [==============================] - 1s 68us/sample - loss: 0.3532 - accuracy: 0.6059\n",
      "Epoch 143/250\n",
      "10363/10363 [==============================] - 1s 68us/sample - loss: 0.3520 - accuracy: 0.6058\n",
      "Epoch 144/250\n",
      "10363/10363 [==============================] - 1s 75us/sample - loss: 0.3564 - accuracy: 0.5996\n",
      "Epoch 145/250\n",
      "10363/10363 [==============================] - 1s 71us/sample - loss: 0.3535 - accuracy: 0.6037\n",
      "Epoch 146/250\n",
      "10363/10363 [==============================] - 1s 72us/sample - loss: 0.3527 - accuracy: 0.6040\n",
      "Epoch 147/250\n",
      "10363/10363 [==============================] - 1s 71us/sample - loss: 0.3518 - accuracy: 0.6051\n",
      "Epoch 148/250\n",
      "10363/10363 [==============================] - 1s 67us/sample - loss: 0.3510 - accuracy: 0.6059\n",
      "Epoch 149/250\n"
     ]
    },
    {
     "name": "stdout",
     "output_type": "stream",
     "text": [
      "10363/10363 [==============================] - 1s 73us/sample - loss: 0.3516 - accuracy: 0.6056\n",
      "Epoch 150/250\n",
      "10363/10363 [==============================] - 1s 70us/sample - loss: 0.3533 - accuracy: 0.5983\n",
      "Epoch 151/250\n",
      "10363/10363 [==============================] - 1s 69us/sample - loss: 0.3524 - accuracy: 0.6083\n",
      "Epoch 152/250\n",
      "10363/10363 [==============================] - 1s 73us/sample - loss: 0.3506 - accuracy: 0.6051\n",
      "Epoch 153/250\n",
      "10363/10363 [==============================] - 1s 68us/sample - loss: 0.3494 - accuracy: 0.6094\n",
      "Epoch 154/250\n",
      "10363/10363 [==============================] - 1s 71us/sample - loss: 0.3536 - accuracy: 0.6069\n",
      "Epoch 155/250\n",
      "10363/10363 [==============================] - 1s 67us/sample - loss: 0.3486 - accuracy: 0.6079\n",
      "Epoch 156/250\n",
      "10363/10363 [==============================] - 1s 65us/sample - loss: 0.3495 - accuracy: 0.6074\n",
      "Epoch 157/250\n",
      "10363/10363 [==============================] - 1s 68us/sample - loss: 0.3507 - accuracy: 0.6091\n",
      "Epoch 158/250\n",
      "10363/10363 [==============================] - 1s 72us/sample - loss: 0.3510 - accuracy: 0.6047\n",
      "Epoch 159/250\n",
      "10363/10363 [==============================] - 1s 68us/sample - loss: 0.3506 - accuracy: 0.6095\n",
      "Epoch 160/250\n",
      "10363/10363 [==============================] - 1s 66us/sample - loss: 0.3490 - accuracy: 0.6082\n",
      "Epoch 161/250\n",
      "10363/10363 [==============================] - 1s 65us/sample - loss: 0.3522 - accuracy: 0.6043\n",
      "Epoch 162/250\n",
      "10363/10363 [==============================] - 1s 66us/sample - loss: 0.3513 - accuracy: 0.6039\n",
      "Epoch 163/250\n",
      "10363/10363 [==============================] - 1s 68us/sample - loss: 0.3450 - accuracy: 0.6117\n",
      "Epoch 164/250\n",
      "10363/10363 [==============================] - 1s 71us/sample - loss: 0.3469 - accuracy: 0.6078\n",
      "Epoch 165/250\n",
      "10363/10363 [==============================] - 1s 66us/sample - loss: 0.3494 - accuracy: 0.6113\n",
      "Epoch 166/250\n",
      "10363/10363 [==============================] - 1s 68us/sample - loss: 0.3486 - accuracy: 0.6093\n",
      "Epoch 167/250\n",
      "10363/10363 [==============================] - 1s 68us/sample - loss: 0.3493 - accuracy: 0.6045\n",
      "Epoch 168/250\n",
      "10363/10363 [==============================] - 1s 66us/sample - loss: 0.3503 - accuracy: 0.6084\n",
      "Epoch 169/250\n",
      "10363/10363 [==============================] - 1s 67us/sample - loss: 0.3494 - accuracy: 0.6127\n",
      "Epoch 170/250\n",
      "10363/10363 [==============================] - 1s 66us/sample - loss: 0.3506 - accuracy: 0.6056\n",
      "Epoch 171/250\n",
      "10363/10363 [==============================] - 1s 68us/sample - loss: 0.3489 - accuracy: 0.6071\n",
      "Epoch 172/250\n",
      "10363/10363 [==============================] - 1s 67us/sample - loss: 0.3472 - accuracy: 0.6112\n",
      "Epoch 173/250\n",
      "10363/10363 [==============================] - 1s 68us/sample - loss: 0.3474 - accuracy: 0.6118\n",
      "Epoch 174/250\n",
      "10363/10363 [==============================] - 1s 67us/sample - loss: 0.3497 - accuracy: 0.6083\n",
      "Epoch 175/250\n",
      "10363/10363 [==============================] - 1s 68us/sample - loss: 0.3445 - accuracy: 0.6093\n",
      "Epoch 176/250\n",
      "10363/10363 [==============================] - 1s 67us/sample - loss: 0.3445 - accuracy: 0.6116\n",
      "Epoch 177/250\n",
      "10363/10363 [==============================] - 1s 66us/sample - loss: 0.3491 - accuracy: 0.6040\n",
      "Epoch 178/250\n",
      "10363/10363 [==============================] - 1s 72us/sample - loss: 0.3468 - accuracy: 0.6066\n",
      "Epoch 179/250\n",
      "10363/10363 [==============================] - 1s 69us/sample - loss: 0.3479 - accuracy: 0.6105\n",
      "Epoch 180/250\n",
      "10363/10363 [==============================] - 1s 68us/sample - loss: 0.3449 - accuracy: 0.6118\n",
      "Epoch 181/250\n",
      "10363/10363 [==============================] - 1s 73us/sample - loss: 0.3496 - accuracy: 0.6083\n",
      "Epoch 182/250\n",
      "10363/10363 [==============================] - 1s 70us/sample - loss: 0.3462 - accuracy: 0.6104\n",
      "Epoch 183/250\n",
      "10363/10363 [==============================] - 1s 71us/sample - loss: 0.3473 - accuracy: 0.6112\n",
      "Epoch 184/250\n",
      "10363/10363 [==============================] - 1s 75us/sample - loss: 0.3453 - accuracy: 0.6175\n",
      "Epoch 185/250\n",
      "10363/10363 [==============================] - 1s 67us/sample - loss: 0.3462 - accuracy: 0.6088\n",
      "Epoch 186/250\n",
      "10363/10363 [==============================] - 1s 68us/sample - loss: 0.3448 - accuracy: 0.6144\n",
      "Epoch 187/250\n",
      "10363/10363 [==============================] - 1s 71us/sample - loss: 0.3463 - accuracy: 0.6157\n",
      "Epoch 188/250\n",
      "10363/10363 [==============================] - 1s 73us/sample - loss: 0.3475 - accuracy: 0.6128\n",
      "Epoch 189/250\n",
      "10363/10363 [==============================] - 1s 68us/sample - loss: 0.3417 - accuracy: 0.6161\n",
      "Epoch 190/250\n",
      "10363/10363 [==============================] - 1s 68us/sample - loss: 0.3424 - accuracy: 0.6131\n",
      "Epoch 191/250\n",
      "10363/10363 [==============================] - 1s 68us/sample - loss: 0.3418 - accuracy: 0.6162\n",
      "Epoch 192/250\n",
      "10363/10363 [==============================] - 1s 68us/sample - loss: 0.3441 - accuracy: 0.6166\n",
      "Epoch 193/250\n",
      "10363/10363 [==============================] - 1s 72us/sample - loss: 0.3415 - accuracy: 0.6156\n",
      "Epoch 194/250\n",
      "10363/10363 [==============================] - 1s 71us/sample - loss: 0.3436 - accuracy: 0.6151\n",
      "Epoch 195/250\n",
      "10363/10363 [==============================] - 1s 67us/sample - loss: 0.3442 - accuracy: 0.6152\n",
      "Epoch 196/250\n",
      "10363/10363 [==============================] - 1s 67us/sample - loss: 0.3454 - accuracy: 0.6116\n",
      "Epoch 197/250\n",
      "10363/10363 [==============================] - 1s 69us/sample - loss: 0.3448 - accuracy: 0.6153\n",
      "Epoch 198/250\n",
      "10363/10363 [==============================] - 1s 74us/sample - loss: 0.3452 - accuracy: 0.6163\n",
      "Epoch 199/250\n",
      "10363/10363 [==============================] - 1s 69us/sample - loss: 0.3409 - accuracy: 0.6166\n",
      "Epoch 200/250\n",
      "10363/10363 [==============================] - 1s 76us/sample - loss: 0.3441 - accuracy: 0.6122\n",
      "Epoch 201/250\n",
      "10363/10363 [==============================] - 1s 68us/sample - loss: 0.3432 - accuracy: 0.6142\n",
      "Epoch 202/250\n",
      "10363/10363 [==============================] - 1s 69us/sample - loss: 0.3465 - accuracy: 0.6084\n",
      "Epoch 203/250\n",
      "10363/10363 [==============================] - 1s 68us/sample - loss: 0.3453 - accuracy: 0.6093\n",
      "Epoch 204/250\n",
      "10363/10363 [==============================] - 1s 74us/sample - loss: 0.3431 - accuracy: 0.6092\n",
      "Epoch 205/250\n",
      "10363/10363 [==============================] - 1s 70us/sample - loss: 0.3437 - accuracy: 0.6113\n",
      "Epoch 206/250\n",
      "10363/10363 [==============================] - 1s 68us/sample - loss: 0.3420 - accuracy: 0.6142\n",
      "Epoch 207/250\n",
      "10363/10363 [==============================] - 1s 68us/sample - loss: 0.3429 - accuracy: 0.6094\n",
      "Epoch 208/250\n",
      "10363/10363 [==============================] - 1s 73us/sample - loss: 0.3417 - accuracy: 0.6130\n",
      "Epoch 209/250\n",
      "10363/10363 [==============================] - 1s 68us/sample - loss: 0.3449 - accuracy: 0.6107\n",
      "Epoch 210/250\n",
      "10363/10363 [==============================] - 1s 67us/sample - loss: 0.3420 - accuracy: 0.6188\n",
      "Epoch 211/250\n",
      "10363/10363 [==============================] - 1s 69us/sample - loss: 0.3405 - accuracy: 0.6185\n",
      "Epoch 212/250\n",
      "10363/10363 [==============================] - 1s 66us/sample - loss: 0.3416 - accuracy: 0.6131\n",
      "Epoch 213/250\n",
      "10363/10363 [==============================] - 1s 75us/sample - loss: 0.3412 - accuracy: 0.6159\n",
      "Epoch 214/250\n",
      "10363/10363 [==============================] - 1s 69us/sample - loss: 0.3437 - accuracy: 0.6146\n",
      "Epoch 215/250\n",
      "10363/10363 [==============================] - 1s 68us/sample - loss: 0.3418 - accuracy: 0.6166\n",
      "Epoch 216/250\n",
      "10363/10363 [==============================] - 1s 68us/sample - loss: 0.3428 - accuracy: 0.6181\n",
      "Epoch 217/250\n",
      "10363/10363 [==============================] - 1s 75us/sample - loss: 0.3416 - accuracy: 0.6096\n",
      "Epoch 218/250\n",
      "10363/10363 [==============================] - 1s 67us/sample - loss: 0.3392 - accuracy: 0.6180\n",
      "Epoch 219/250\n",
      "10363/10363 [==============================] - 1s 68us/sample - loss: 0.3404 - accuracy: 0.6188\n",
      "Epoch 220/250\n",
      "10363/10363 [==============================] - 1s 71us/sample - loss: 0.3413 - accuracy: 0.6176\n",
      "Epoch 221/250\n",
      "10363/10363 [==============================] - 1s 72us/sample - loss: 0.3400 - accuracy: 0.6164\n",
      "Epoch 222/250\n",
      "10363/10363 [==============================] - 1s 69us/sample - loss: 0.3394 - accuracy: 0.6153\n",
      "Epoch 223/250\n",
      "10363/10363 [==============================] - 1s 70us/sample - loss: 0.3408 - accuracy: 0.6175\n",
      "Epoch 224/250\n",
      "10363/10363 [==============================] - 1s 70us/sample - loss: 0.3392 - accuracy: 0.6176\n",
      "Epoch 225/250\n",
      "10363/10363 [==============================] - 1s 67us/sample - loss: 0.3424 - accuracy: 0.6164\n",
      "Epoch 226/250\n",
      "10363/10363 [==============================] - 1s 68us/sample - loss: 0.3382 - accuracy: 0.6202\n",
      "Epoch 227/250\n",
      "10363/10363 [==============================] - 1s 67us/sample - loss: 0.3418 - accuracy: 0.6135\n",
      "Epoch 228/250\n",
      "10363/10363 [==============================] - 1s 66us/sample - loss: 0.3373 - accuracy: 0.6185\n",
      "Epoch 229/250\n",
      "10363/10363 [==============================] - 1s 67us/sample - loss: 0.3398 - accuracy: 0.6202\n",
      "Epoch 230/250\n",
      "10363/10363 [==============================] - 1s 67us/sample - loss: 0.3378 - accuracy: 0.6142\n",
      "Epoch 231/250\n",
      "10363/10363 [==============================] - 1s 69us/sample - loss: 0.3433 - accuracy: 0.6131\n",
      "Epoch 232/250\n",
      "10363/10363 [==============================] - 1s 66us/sample - loss: 0.3387 - accuracy: 0.6168\n",
      "Epoch 233/250\n",
      "10363/10363 [==============================] - 1s 66us/sample - loss: 0.3392 - accuracy: 0.6181\n",
      "Epoch 234/250\n",
      "10363/10363 [==============================] - 1s 67us/sample - loss: 0.3402 - accuracy: 0.6132\n",
      "Epoch 235/250\n",
      "10363/10363 [==============================] - 1s 71us/sample - loss: 0.3375 - accuracy: 0.6192\n",
      "Epoch 236/250\n",
      "10363/10363 [==============================] - 1s 68us/sample - loss: 0.3401 - accuracy: 0.6164\n",
      "Epoch 237/250\n",
      "10363/10363 [==============================] - 1s 67us/sample - loss: 0.3383 - accuracy: 0.6146\n",
      "Epoch 238/250\n",
      "10363/10363 [==============================] - 1s 71us/sample - loss: 0.3417 - accuracy: 0.6132\n",
      "Epoch 239/250\n",
      "10363/10363 [==============================] - 1s 69us/sample - loss: 0.3360 - accuracy: 0.6172\n",
      "Epoch 240/250\n",
      "10363/10363 [==============================] - 1s 69us/sample - loss: 0.3401 - accuracy: 0.6187\n",
      "Epoch 241/250\n",
      "10363/10363 [==============================] - 1s 75us/sample - loss: 0.3422 - accuracy: 0.6116\n",
      "Epoch 242/250\n",
      "10363/10363 [==============================] - 1s 69us/sample - loss: 0.3380 - accuracy: 0.6154\n",
      "Epoch 243/250\n",
      "10363/10363 [==============================] - 1s 70us/sample - loss: 0.3375 - accuracy: 0.6168\n",
      "Epoch 244/250\n",
      "10363/10363 [==============================] - 1s 72us/sample - loss: 0.3402 - accuracy: 0.6149\n",
      "Epoch 245/250\n",
      "10363/10363 [==============================] - 1s 70us/sample - loss: 0.3348 - accuracy: 0.6188\n",
      "Epoch 246/250\n",
      "10363/10363 [==============================] - 1s 69us/sample - loss: 0.3404 - accuracy: 0.6164\n",
      "Epoch 247/250\n",
      "10363/10363 [==============================] - 1s 67us/sample - loss: 0.3391 - accuracy: 0.6179\n",
      "Epoch 248/250\n",
      "10363/10363 [==============================] - 1s 76us/sample - loss: 0.3399 - accuracy: 0.6158\n",
      "Epoch 249/250\n",
      "10363/10363 [==============================] - 1s 67us/sample - loss: 0.3376 - accuracy: 0.6229\n",
      "Epoch 250/250\n",
      "10363/10363 [==============================] - 1s 69us/sample - loss: 0.3355 - accuracy: 0.6233\n"
     ]
    },
    {
     "data": {
      "text/plain": [
       "<tensorflow.python.keras.callbacks.History at 0x7ff81407f6d8>"
      ]
     },
     "execution_count": 54,
     "metadata": {},
     "output_type": "execute_result"
    }
   ],
   "source": [
    "model_final.fit(\n",
    "    x=features_valid, \n",
    "    y=labels_valid,\n",
    "    batch_size=256,\n",
    "    epochs=250,\n",
    "    sample_weight=weights_valid,\n",
    ")"
   ]
  },
  {
   "cell_type": "markdown",
   "metadata": {},
   "source": [
    "Test on val"
   ]
  },
  {
   "cell_type": "code",
   "execution_count": 55,
   "metadata": {},
   "outputs": [],
   "source": [
    "preds_val = model_final.predict(features_val)"
   ]
  },
  {
   "cell_type": "code",
   "execution_count": 56,
   "metadata": {},
   "outputs": [
    {
     "data": {
      "text/plain": [
       "0.8696593886087294"
      ]
     },
     "execution_count": 56,
     "metadata": {},
     "output_type": "execute_result"
    }
   ],
   "source": [
    "one_hot_labels_val = one_hot(labels_val, 7)\n",
    "log_loss(one_hot_labels_val, preds_val)"
   ]
  },
  {
   "cell_type": "markdown",
   "metadata": {},
   "source": [
    "Predict on test data"
   ]
  },
  {
   "cell_type": "code",
   "execution_count": 60,
   "metadata": {},
   "outputs": [],
   "source": [
    "preds_final = model_final.predict(features_test)"
   ]
  },
  {
   "cell_type": "code",
   "execution_count": 61,
   "metadata": {},
   "outputs": [
    {
     "data": {
      "text/html": [
       "<div>\n",
       "<style scoped>\n",
       "    .dataframe tbody tr th:only-of-type {\n",
       "        vertical-align: middle;\n",
       "    }\n",
       "\n",
       "    .dataframe tbody tr th {\n",
       "        vertical-align: top;\n",
       "    }\n",
       "\n",
       "    .dataframe thead th {\n",
       "        text-align: right;\n",
       "    }\n",
       "</style>\n",
       "<table border=\"1\" class=\"dataframe\">\n",
       "  <thead>\n",
       "    <tr style=\"text-align: right;\">\n",
       "      <th></th>\n",
       "      <th>Crop_ID_1</th>\n",
       "      <th>Crop_ID_2</th>\n",
       "      <th>Crop_ID_3</th>\n",
       "      <th>Crop_ID_4</th>\n",
       "      <th>Crop_ID_5</th>\n",
       "      <th>Crop_ID_6</th>\n",
       "      <th>Crop_ID_7</th>\n",
       "    </tr>\n",
       "    <tr>\n",
       "      <th>Field_ID</th>\n",
       "      <th></th>\n",
       "      <th></th>\n",
       "      <th></th>\n",
       "      <th></th>\n",
       "      <th></th>\n",
       "      <th></th>\n",
       "      <th></th>\n",
       "    </tr>\n",
       "  </thead>\n",
       "  <tbody>\n",
       "    <tr>\n",
       "      <th>3</th>\n",
       "      <td>0.093878</td>\n",
       "      <td>0.741820</td>\n",
       "      <td>0.018600</td>\n",
       "      <td>0.058965</td>\n",
       "      <td>0.010796</td>\n",
       "      <td>0.007072</td>\n",
       "      <td>0.068869</td>\n",
       "    </tr>\n",
       "    <tr>\n",
       "      <th>6</th>\n",
       "      <td>0.092141</td>\n",
       "      <td>0.853336</td>\n",
       "      <td>0.000131</td>\n",
       "      <td>0.013566</td>\n",
       "      <td>0.013991</td>\n",
       "      <td>0.025687</td>\n",
       "      <td>0.001148</td>\n",
       "    </tr>\n",
       "    <tr>\n",
       "      <th>11</th>\n",
       "      <td>0.087642</td>\n",
       "      <td>0.674603</td>\n",
       "      <td>0.010626</td>\n",
       "      <td>0.132801</td>\n",
       "      <td>0.056422</td>\n",
       "      <td>0.003938</td>\n",
       "      <td>0.033968</td>\n",
       "    </tr>\n",
       "    <tr>\n",
       "      <th>13</th>\n",
       "      <td>0.243931</td>\n",
       "      <td>0.547923</td>\n",
       "      <td>0.016267</td>\n",
       "      <td>0.029965</td>\n",
       "      <td>0.114173</td>\n",
       "      <td>0.034280</td>\n",
       "      <td>0.013460</td>\n",
       "    </tr>\n",
       "    <tr>\n",
       "      <th>14</th>\n",
       "      <td>0.048479</td>\n",
       "      <td>0.865151</td>\n",
       "      <td>0.042108</td>\n",
       "      <td>0.007048</td>\n",
       "      <td>0.008549</td>\n",
       "      <td>0.000287</td>\n",
       "      <td>0.028379</td>\n",
       "    </tr>\n",
       "    <tr>\n",
       "      <th>...</th>\n",
       "      <td>...</td>\n",
       "      <td>...</td>\n",
       "      <td>...</td>\n",
       "      <td>...</td>\n",
       "      <td>...</td>\n",
       "      <td>...</td>\n",
       "      <td>...</td>\n",
       "    </tr>\n",
       "    <tr>\n",
       "      <th>4785</th>\n",
       "      <td>0.909692</td>\n",
       "      <td>0.070041</td>\n",
       "      <td>0.006883</td>\n",
       "      <td>0.007005</td>\n",
       "      <td>0.002077</td>\n",
       "      <td>0.002031</td>\n",
       "      <td>0.002272</td>\n",
       "    </tr>\n",
       "    <tr>\n",
       "      <th>4788</th>\n",
       "      <td>0.922520</td>\n",
       "      <td>0.023131</td>\n",
       "      <td>0.007554</td>\n",
       "      <td>0.028200</td>\n",
       "      <td>0.004992</td>\n",
       "      <td>0.013580</td>\n",
       "      <td>0.000022</td>\n",
       "    </tr>\n",
       "    <tr>\n",
       "      <th>4790</th>\n",
       "      <td>0.790623</td>\n",
       "      <td>0.102938</td>\n",
       "      <td>0.008065</td>\n",
       "      <td>0.026936</td>\n",
       "      <td>0.042148</td>\n",
       "      <td>0.028407</td>\n",
       "      <td>0.000883</td>\n",
       "    </tr>\n",
       "    <tr>\n",
       "      <th>4793</th>\n",
       "      <td>0.537171</td>\n",
       "      <td>0.087778</td>\n",
       "      <td>0.002759</td>\n",
       "      <td>0.163861</td>\n",
       "      <td>0.110695</td>\n",
       "      <td>0.096905</td>\n",
       "      <td>0.000830</td>\n",
       "    </tr>\n",
       "    <tr>\n",
       "      <th>4794</th>\n",
       "      <td>0.621428</td>\n",
       "      <td>0.189974</td>\n",
       "      <td>0.013608</td>\n",
       "      <td>0.063904</td>\n",
       "      <td>0.059641</td>\n",
       "      <td>0.049414</td>\n",
       "      <td>0.002031</td>\n",
       "    </tr>\n",
       "  </tbody>\n",
       "</table>\n",
       "<p>1402 rows × 7 columns</p>\n",
       "</div>"
      ],
      "text/plain": [
       "          Crop_ID_1  Crop_ID_2  Crop_ID_3  Crop_ID_4  Crop_ID_5  Crop_ID_6  \\\n",
       "Field_ID                                                                     \n",
       "3          0.093878   0.741820   0.018600   0.058965   0.010796   0.007072   \n",
       "6          0.092141   0.853336   0.000131   0.013566   0.013991   0.025687   \n",
       "11         0.087642   0.674603   0.010626   0.132801   0.056422   0.003938   \n",
       "13         0.243931   0.547923   0.016267   0.029965   0.114173   0.034280   \n",
       "14         0.048479   0.865151   0.042108   0.007048   0.008549   0.000287   \n",
       "...             ...        ...        ...        ...        ...        ...   \n",
       "4785       0.909692   0.070041   0.006883   0.007005   0.002077   0.002031   \n",
       "4788       0.922520   0.023131   0.007554   0.028200   0.004992   0.013580   \n",
       "4790       0.790623   0.102938   0.008065   0.026936   0.042148   0.028407   \n",
       "4793       0.537171   0.087778   0.002759   0.163861   0.110695   0.096905   \n",
       "4794       0.621428   0.189974   0.013608   0.063904   0.059641   0.049414   \n",
       "\n",
       "          Crop_ID_7  \n",
       "Field_ID             \n",
       "3          0.068869  \n",
       "6          0.001148  \n",
       "11         0.033968  \n",
       "13         0.013460  \n",
       "14         0.028379  \n",
       "...             ...  \n",
       "4785       0.002272  \n",
       "4788       0.000022  \n",
       "4790       0.000883  \n",
       "4793       0.000830  \n",
       "4794       0.002031  \n",
       "\n",
       "[1402 rows x 7 columns]"
      ]
     },
     "execution_count": 61,
     "metadata": {},
     "output_type": "execute_result"
    }
   ],
   "source": [
    "# Groups pixel-wise predictions into field predictions by averaging.\n",
    "    \n",
    "df_pred = pd.DataFrame(preds_final, columns=[f'Crop_ID_{i+1}' for i in range(7)])\n",
    "df_pred['Field_ID'] = field_id_test\n",
    "    \n",
    "df_grouped = df_pred.groupby('Field_ID').mean()\n",
    "df_grouped"
   ]
  },
  {
   "cell_type": "code",
   "execution_count": 62,
   "metadata": {},
   "outputs": [],
   "source": [
    "df_grouped.to_csv('submissions/temp_cnn_sampling_weighted.csv')"
   ]
  },
  {
   "cell_type": "code",
   "execution_count": 63,
   "metadata": {},
   "outputs": [],
   "source": [
    "model_final.save_weights('models/temp_cnn_sampling_weighted.hdf5')"
   ]
  },
  {
   "cell_type": "code",
   "execution_count": null,
   "metadata": {},
   "outputs": [],
   "source": []
  }
 ],
 "metadata": {
  "kernelspec": {
   "display_name": "tf2",
   "language": "python",
   "name": "tf2"
  },
  "language_info": {
   "codemirror_mode": {
    "name": "ipython",
    "version": 3
   },
   "file_extension": ".py",
   "mimetype": "text/x-python",
   "name": "python",
   "nbconvert_exporter": "python",
   "pygments_lexer": "ipython3",
   "version": "3.6.9"
  }
 },
 "nbformat": 4,
 "nbformat_minor": 2
}
